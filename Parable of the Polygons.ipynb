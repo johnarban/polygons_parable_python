{
 "cells": [
  {
   "cell_type": "code",
   "execution_count": 1,
   "metadata": {},
   "outputs": [],
   "source": [
    "import numpy as np\n",
    "import matplotlib as mpl\n",
    "import matplotlib.pyplot as plt\n",
    "%matplotlib inline\n",
    "\n",
    "from scipy import signal"
   ]
  },
  {
   "cell_type": "code",
   "execution_count": 515,
   "metadata": {},
   "outputs": [],
   "source": [
    "grid_size = 4\n",
    "n_spots = grid_size**2\n",
    "n_yellow = n_spots // 3\n",
    "n_blue = n_spots // 3\n",
    "\n",
    "def plot_grid(gs=None,ax=None):\n",
    "    if ax is None:\n",
    "        ax = plt.subplot(111)\n",
    "    if gs is None:\n",
    "        gs = 10\n",
    "        \n",
    "    \n",
    "    ax.set_xticks(np.arange(gs+1)-0.5)\n",
    "    ax.set_yticks(np.arange(gs+1)-0.5)\n",
    "    ax.set_xlim(-0.5,gs-0.5)\n",
    "    ax.set_ylim(-0.5,gs-0.5)\n",
    "    ax.set_xticklabels([])\n",
    "    ax.set_yticklabels([])\n",
    "    ax.set_aspect(1)\n",
    "    ax.grid(True)\n",
    "        "
   ]
  },
  {
   "cell_type": "code",
   "execution_count": 308,
   "metadata": {},
   "outputs": [
    {
     "data": {
      "text/plain": [
       "(array([[[0, 0],\n",
       "         [1, 1]],\n",
       " \n",
       "        [[0, 1],\n",
       "         [0, 1]]]), array([[[0, 0],\n",
       "         [1, 1]],\n",
       " \n",
       "        [[0, 1],\n",
       "         [0, 1]]]))"
      ]
     },
     "execution_count": 308,
     "metadata": {},
     "output_type": "execute_result"
    }
   ],
   "source": [
    "grid=np.mgrid[:3,:3]\n",
    "\n",
    "np.mgrid[:2,:2],np.indices((2,2))"
   ]
  },
  {
   "cell_type": "code",
   "execution_count": 289,
   "metadata": {},
   "outputs": [
    {
     "name": "stderr",
     "output_type": "stream",
     "text": [
      "/Users/johnlewis/anaconda3/lib/python3.6/site-packages/ipykernel_launcher.py:39: RuntimeWarning: invalid value encountered in true_divide\n",
      "/Users/johnlewis/anaconda3/lib/python3.6/site-packages/ipykernel_launcher.py:40: RuntimeWarning: invalid value encountered in true_divide\n"
     ]
    },
    {
     "data": {
      "text/plain": [
       "<matplotlib.image.AxesImage at 0x11fddc5c0>"
      ]
     },
     "execution_count": 289,
     "metadata": {},
     "output_type": "execute_result"
    },
    {
     "data": {
      "image/png": "[encoded data removed]",
      "text/plain": [
       "<Figure size 360x288 with 1 Axes>"
      ]
     },
     "metadata": {},
     "output_type": "display_data"
    }
   ],
   "source": [
    "world = np.zeros((grid_size,grid_size))\n",
    "\n",
    "grid = np.mgrid[:grid_size,:grid_size]\n",
    "\n",
    "fig = plt.figure(figsize=(5,4))\n",
    "ax = plt.subplot(111)\n",
    "plot_grid(grid_size,ax)\n",
    "#plt.scatter(xs,ys,marker='.',c='red')\n",
    "\n",
    "np.random.seed(4)\n",
    "positions = np.random.choice(np.indices(grid[0].ravel().shape)[0],size=n_yellow+n_blue,replace=False)\n",
    "\n",
    "y_yellow, x_yellow = np.unravel_index(positions[:n_yellow],grid[0].shape)\n",
    "y_blue, x_blue = np.unravel_index(positions[n_yellow:n_yellow+n_blue],grid[0].shape)\n",
    "\n",
    "plt.scatter(x_blue,y_blue,c='b',marker='o')\n",
    "plt.scatter(x_yellow,y_yellow,c='yellow',marker='o')\n",
    "\n",
    "yellow_world = np.zeros((grid_size,grid_size))\n",
    "yellow_world[y_yellow, x_yellow] = 1\n",
    "\n",
    "blue_world = np.zeros((grid_size,grid_size))\n",
    "blue_world[y_blue, x_blue] = 1\n",
    "\n",
    "footprint = np.ones((3,3))\n",
    "footprint[1,1] = 0\n",
    "\n",
    "yellow = yellow_world > 0\n",
    "blue = blue_world > 0\n",
    "    \n",
    "\n",
    "blue_same = signal.convolve2d(blue_world,footprint,mode='same') * blue\n",
    "yellow_same = signal.convolve2d(yellow_world,footprint,mode='same') * yellow\n",
    "neighbors = signal.convolve2d(yellow_world+blue_world,footprint,mode='same').astype(float) * (blue | yellow) #ncells - nones\n",
    "\n",
    "nones = signal.convolve2d(-blue_world - yellow_world + 1, footprint,mode='same') * (blue | yellow)\n",
    "ncells = signal.convolve2d(world+1, footprint,mode='same') * (blue | yellow)\n",
    "\n",
    "yellow_sameness = yellow_same / neighbors\n",
    "blue_sameness = blue_same / neighbors\n",
    "\n",
    "\n",
    "cmap = mpl.cm.get_cmap('Greys',8)\n",
    "plt.imshow(np.ma.masked_array(yellow_sameness,~yellow),origin='lower',cmap='Wistia',vmin=0,vmax=1)\n",
    "plt.imshow(np.ma.masked_array(blue_sameness,~blue),origin='lower',cmap='Blues',vmin=0,vmax=1)"
   ]
  },
  {
   "cell_type": "code",
   "execution_count": 309,
   "metadata": {},
   "outputs": [
    {
     "name": "stdout",
     "output_type": "stream",
     "text": [
      "[[ 1.  1.  1.]\n",
      " [ 1.  0.  1.]\n",
      " [ 1.  1.  1.]]\n"
     ]
    }
   ],
   "source": []
  },
  {
   "cell_type": "code",
   "execution_count": 282,
   "metadata": {},
   "outputs": [],
   "source": [
    "def count_neighbors(p,w):\n",
    "    n = p*0 # create an array the same as p with all zeros\n",
    "    # there are at most nine neighbors\n",
    "    for i,p_i in enumerate(p):\n",
    "        for j,p_j in enumerate(p_i):\n",
    "            if p[i,j]>0:\n",
    "                for i_inc in [-1,0,1]:\n",
    "                    for j_inc in [-1,0,1]:\n",
    "                        if abs(i_inc) + abs(j_inc) > 0:\n",
    "                            if (0<=i+i_inc<p.shape[0]) & (0<=j+j_inc<p.shape[1]):\n",
    "                                n[i,j] += w[i+i_inc,j+j_inc]\n",
    "\n",
    "    return n.astype(float)"
   ]
  },
  {
   "cell_type": "code",
   "execution_count": 283,
   "metadata": {},
   "outputs": [],
   "source": [
    "%%capture --no-stdout\n",
    "ny = count_neighbors(yellow_world,yellow_world) # get # neighbors for yellow\n",
    "nb = count_neighbors(blue_world,blue_world) # get # of neighbors for blue\n",
    "nbs = count_neighbors(yellow_world+blue_world,yellow_world+blue_world)\n",
    "y_sameness = ny/nbs\n",
    "y_sameness[nbs==0] = 1\n",
    "b_sameness = nb/nbs\n",
    "b_sameness[nbs==0] = 1"
   ]
  },
  {
   "cell_type": "code",
   "execution_count": 285,
   "metadata": {},
   "outputs": [
    {
     "data": {
      "text/plain": [
       "<matplotlib.colorbar.Colorbar at 0x11fc0b240>"
      ]
     },
     "execution_count": 285,
     "metadata": {},
     "output_type": "execute_result"
    },
    {
     "data": {
      "image/png": "[encoded data removed]",
      "text/plain": [
       "<Figure size 864x360 with 4 Axes>"
      ]
     },
     "metadata": {},
     "output_type": "display_data"
    }
   ],
   "source": [
    "plt.figure(figsize=(12,5))\n",
    "plt.subplot(121)\n",
    "plt.imshow(np.ma.masked_array(y_sameness,~yellow),origin='lower',cmap='Wistia',vmin=0)\n",
    "plt.colorbar()\n",
    "plt.title('Segregation = {:0.2f}'.format(seg(y_sameness[yellow])))\n",
    "\n",
    "plt.subplot(122)\n",
    "plt.imshow(np.ma.masked_array(b_sameness,~blue),origin='lower',cmap='Blues',vmin=0)\n",
    "plt.title('Segregation = {:0.2f}'.format(seg(b_sameness[blue])))\n",
    "plt.colorbar()\n"
   ]
  },
  {
   "cell_type": "markdown",
   "metadata": {},
   "source": [
    "## Version 2\n",
    "\n",
    "Some problems with this implementation:\n",
    "- If it doesn't find a solution, it stops after 1000 loops. \n",
    "- Not yet fully tested\n",
    "- Haven't checked segragation calculcation yet, but math is there\n",
    "\n",
    "Good things\n",
    "- Everything has a place\n",
    "- It is at least complete, if not bug checked\n",
    "- It works, and seems to work right"
   ]
  },
  {
   "cell_type": "code",
   "execution_count": null,
   "metadata": {},
   "outputs": [],
   "source": [
    "## check fsegregation has asymptote\n",
    "def checkAsymptote(s):\n",
    "    '''\n",
    "    check if length 1000 array has asymptoted\n",
    "    !!!!Very not general. Very bad way!!!!\n",
    "    '''\n",
    "    if len(s>1000):\n",
    "        if np.isclose(np.max(s[500:750]),np.max(s[750:1000])):\n",
    "            return True\n",
    "        else:\n",
    "            return False\n",
    "    else:\n",
    "        return False\n",
    "    \n",
    "### RATHER THAN DO THIS, LIMIT TO 100 moves"
   ]
  },
  {
   "cell_type": "code",
   "execution_count": 560,
   "metadata": {},
   "outputs": [
    {
     "data": {
      "image/png": "[encoded data removed]",
      "text/plain": [
       "<Figure size 432x288 with 1 Axes>"
      ]
     },
     "metadata": {},
     "output_type": "display_data"
    }
   ],
   "source": [
    "np.random.seed(41) #gives a nice board setup\n",
    "\n",
    "def isFilled(x,y,tmpx,tmpy):\n",
    "    '''\n",
    "    check if location tmpx,tmpy\n",
    "    is in x,y\n",
    "    '''\n",
    "    if (tmpx,tmpy) in zip(x,y):\n",
    "        return True\n",
    "    else:\n",
    "        return False\n",
    "    \n",
    "def findEmptySpot(x,y,grid_size):\n",
    "    '''\n",
    "    find a random empty spot the grid\n",
    "    '''\n",
    "    spotFilled=True\n",
    "    while spotFilled:\n",
    "        tmpx = np.random.randint(low=0,high=grid_size)\n",
    "        tmpy = np.random.randint(low=0,high=grid_size)\n",
    "        spotFilled = isFilled(x,y,tmpx,tmpy)\n",
    "    return tmpx,tmpy\n",
    "\n",
    "def getEmptySpots(x,y,grid_size):\n",
    "    '''\n",
    "    get all empty spots in the grid.\n",
    "    Doing this takes longer the\n",
    "    finding single random one\n",
    "    '''\n",
    "    empty_x,empty_y = np.array([]),np.array([])\n",
    "    for tmpx in range(grid_size):\n",
    "        for tmpy in range(grid_size):\n",
    "            if not isFilled(x,y,tmpx,tmpy):\n",
    "                empty_x = np.append(empty_x,tmpx)\n",
    "                empty_y = np.append(empty_y,tmpy)\n",
    "    return empty_x, empty_y\n",
    "\n",
    "def get_1_sameness(x0,y0,k0,x,y,k):\n",
    "    '''\n",
    "    get the sameness for a single location our world\n",
    "    '''\n",
    "    dx = x-x0\n",
    "    dy = y-y0\n",
    "    dist = dx**2 + dy**2\n",
    "    NN = np.sum(dist<2) #neighbors\n",
    "    NS = np.sum((dist < 2) & (k==k0)) #same\n",
    "    sameness = NS/NN\n",
    "    \n",
    "    if sameness < 0:\n",
    "        return 0\n",
    "    if NN == 0:\n",
    "        return 1\n",
    "    else:\n",
    "        return sameness\n",
    "\n",
    "def getSameness(x,y,k):\n",
    "    '''\n",
    "    get sameness for every x,y position in our world\n",
    "    '''\n",
    "    neighbors = []\n",
    "    sameness = []\n",
    "    for i in range(len(x)):\n",
    "        sameness = np.append(sameness,get_1_sameness(x[i],y[i],k[i],x,y,k))\n",
    "        \n",
    "    return sameness \n",
    "\n",
    "def find_1_EmptyHappySpot(k0,x,y,k,grid_size):\n",
    "    '''\n",
    "    find the first spot that is both empty and would be happy\n",
    "    This was the first function i wrote. But this does\n",
    "    a poor job of picking good locations. And tends to \n",
    "    get stuck in cycles\n",
    "    '''\n",
    "    emptyx, emptyy = getEmptySpots(x,y,grid_size)\n",
    "    shaking = []\n",
    "    for i in range(len(emptyx)):\n",
    "        if get_1_sameness(emptyx[i],emptyy[i],k0,x,y,k)<SHAKE_LIMIT:\n",
    "            return emptyx[i],emptyy[i]\n",
    "\n",
    "def find_1_EmptyHappySpot(k0,x,y,k,grid_size):\n",
    "    '''\n",
    "    find a random spot that is both empty and would be happy\n",
    "    '''\n",
    "    emptyx, emptyy = getEmptySpots(x,y,grid_size)\n",
    "    doLoop = True \n",
    "    while doLoop:\n",
    "        i = np.random.randint(low=0,high=len(emptyx))\n",
    "        if get_1_sameness(emptyx[i],emptyy[i],k0,x,y,k)<SHAKE_LIMIT:\n",
    "            return emptyx[i],emptyy[i]\n",
    "\n",
    "\n",
    "## create world\n",
    "grid_size = 10 # define grid\n",
    "n_spots = grid_size**2\n",
    "\n",
    "num_a = 30 # 1's\n",
    "num_b = 30 # -1's\n",
    "\n",
    "SHAKE_LIMIT = .50 # shake if <66% are like you, seems to work well\n",
    "\n",
    "# give me empty x,y,k (kind) arrays\n",
    "#   there are better ways. \n",
    "#   like creating arrays, but it's just\n",
    "x = np.array([])\n",
    "y = np.array([])\n",
    "k = np.array([]) #kind\n",
    "seg = np.array([]) #segregation\n",
    "\n",
    "## place in random empty spots for As\n",
    "for i in range(num_a):\n",
    "    tmpx,tmpy = findEmptySpot(x,y,grid_size)\n",
    "    x = np.append(x,tmpx)\n",
    "    y = np.append(y,tmpy)\n",
    "    k = np.append(k,1) #kind a\n",
    "## place in random empty spots for Bs\n",
    "for i in range(num_b):\n",
    "    tmpx,tmpy = findEmptySpot(x,y,grid_size)\n",
    "    x = np.append(x,tmpx)\n",
    "    y = np.append(y,tmpy)\n",
    "    k = np.append(k,-1) #kind b\n",
    "# the above two loops can be combined by being smart with k and an if statement\n",
    "\n",
    "\n",
    "## calculate parameters for initialization\n",
    "sameness = getSameness(x,y,k)\n",
    "shaking = sameness < SHAKE_LIMIT #if sameness too low, start shaking\n",
    "seg = np.append(seg,(np.mean(sameness)-0.5)*2)\n",
    "                \n",
    "                \n",
    "# make an initial world plot\n",
    "ax = plt.subplot(111)\n",
    "plot_grid(grid_size,ax)\n",
    "\n",
    "ax.scatter(x[(k==1)],y[(k==1)],c='b',marker='o',s=30,edgecolors=None)\n",
    "ax.scatter(x[(k==1) & shaking],y[(k==1) & shaking],c='None',marker='o',edgecolors='r',lw=2,s=200)\n",
    "\n",
    "ax.scatter(x[(k==-1)],y[(k==-1)],c='y',marker='s',s=30,edgecolors=None)\n",
    "ax.scatter(x[(k==-1) & shaking],y[(k==-1) & shaking],c='None',marker='s',edgecolors='r',lw=2,s=200)\n",
    "plt.title('Initial World (Shakers in Red)');"
   ]
  },
  {
   "cell_type": "markdown",
   "metadata": {},
   "source": [
    "## Move Step"
   ]
  },
  {
   "cell_type": "code",
   "execution_count": 559,
   "metadata": {},
   "outputs": [
    {
     "name": "stdout",
     "output_type": "stream",
     "text": [
      "1\n"
     ]
    }
   ],
   "source": [
    "%%capture --no-stdout\n",
    "# hide some division errors ;)\n",
    "\n",
    "## move\n",
    "# Only do this if something is shaking.\n",
    "hasShakers = True in shaking\n",
    "loop = 1\n",
    "while hasShakers:\n",
    "    # find the first shaker\n",
    "    # probably best to get a random shaker (likely why were asympt.)\n",
    "    i = shaking.tolist().index(True) # this will find the first shaker\n",
    "    # find a new spot\n",
    "    tmpx,tmpy = find_1_EmptyHappySpot(k[i],x,y,k,grid_size)\n",
    "    #**** update steps\n",
    "    x[i] = tmpx\n",
    "    y[i] = tmpy\n",
    "    sameness = getSameness(x,y,k)\n",
    "    shaking = sameness < SHAKE_LIMIT\n",
    "    #*****\n",
    "    seg = (np.append(seg,(np.mean(sameness)- 0.5)*2))\n",
    "    hasShakers = True in shaking\n",
    "    loop+=1\n",
    "    \n",
    "    # let's not run too long. But if we need to, then do so\n",
    "    if loop % 1000 == 0:\n",
    "        if (checkAsymptote(seg)):\n",
    "            hasShakers=False\n",
    "        else:\n",
    "            print(loop)\n",
    "    \n",
    "\n",
    "print(loop)"
   ]
  },
  {
   "cell_type": "code",
   "execution_count": 558,
   "metadata": {},
   "outputs": [
    {
     "data": {
      "text/plain": [
       "(array([ -5.,   0.,   5.,  10.,  15.,  20.,  25.,  30.]),\n",
       " <a list of 8 Text xticklabel objects>)"
      ]
     },
     "execution_count": 558,
     "metadata": {},
     "output_type": "execute_result"
    },
    {
     "data": {
      "image/png": "[encoded data removed]",
      "text/plain": [
       "<Figure size 864x360 with 2 Axes>"
      ]
     },
     "metadata": {},
     "output_type": "display_data"
    }
   ],
   "source": [
    "plt.figure(figsize=(12,5))\n",
    "ax = plt.subplot(121)\n",
    "plot_grid(grid_size,ax)\n",
    "\n",
    "ax.scatter(x[(k==1)],y[(k==1)],c='b',marker='o',s=30,edgecolors=None)\n",
    "ax.scatter(x[(k==1) & shaking],y[(k==1) & shaking],c='None',marker='o',edgecolors='r',lw=2,s=200)\n",
    "\n",
    "ax.scatter(x[(k==-1)],y[(k==-1)],c='y',marker='s',s=30,edgecolors=None)\n",
    "ax.scatter(x[(k==-1) & shaking],y[(k==-1) & shaking],c='None',marker='s',edgecolors='r',lw=2,s=200)\n",
    "plt.title('Final world after {loop} loops'.format(loop=loop))\n",
    "\n",
    "ax2 = plt.subplot(122)\n",
    "if len(seg) < 2:\n",
    "    ax2.scatter([0],[seg])\n",
    "if len(seg)>100:\n",
    "    ax2.plot(seg[:100])\n",
    "else:\n",
    "    ax2.plot(seg)\n",
    "ax2.set_ylabel('segregation')\n",
    "plt.xticks(rotation=90)"
   ]
  },
  {
   "cell_type": "markdown",
   "metadata": {},
   "source": [
    "Driver:\n",
    "- create\n",
    "- place\n",
    "- move\n",
    "- trace\n",
    "- plot\n",
    "\n",
    "x, y, kind, sameness, \n",
    "\n",
    "```\n",
    "o o _ _ _\n",
    "o o _ _ _\n",
    "_ _ _ x x\n",
    "_ _ x x x\n",
    "```\n",
    "___\n",
    "```\n",
    "o x o _ _\n",
    "x o x _ _\n",
    "_ _ _ _ _\n",
    "_ _ _ _ _\n",
    "```"
   ]
  },
  {
   "cell_type": "markdown",
   "metadata": {},
   "source": [
    "## Set up"
   ]
  },
  {
   "cell_type": "code",
   "execution_count": null,
   "metadata": {},
   "outputs": [],
   "source": [
    "## get everybody placed"
   ]
  },
  {
   "cell_type": "markdown",
   "metadata": {},
   "source": [
    "## Define Functions"
   ]
  },
  {
   "cell_type": "code",
   "execution_count": null,
   "metadata": {},
   "outputs": [],
   "source": []
  },
  {
   "cell_type": "markdown",
   "metadata": {},
   "source": [
    "## Movement"
   ]
  },
  {
   "cell_type": "code",
   "execution_count": null,
   "metadata": {},
   "outputs": [],
   "source": []
  },
  {
   "cell_type": "markdown",
   "metadata": {},
   "source": [
    "## Seg vs t"
   ]
  },
  {
   "cell_type": "code",
   "execution_count": null,
   "metadata": {},
   "outputs": [],
   "source": []
  }
 ],
 "metadata": {
  "kernelspec": {
   "display_name": "Python 3",
   "language": "python",
   "name": "python3"
  },
  "language_info": {
   "codemirror_mode": {
    "name": "ipython",
    "version": 3
   },
   "file_extension": ".py",
   "mimetype": "text/x-python",
   "name": "python",
   "nbconvert_exporter": "python",
   "pygments_lexer": "ipython3",
   "version": "3.6.5"
  }
 },
 "nbformat": 4,
 "nbformat_minor": 2
}
